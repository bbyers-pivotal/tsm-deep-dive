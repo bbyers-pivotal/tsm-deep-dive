{
 "cells": [
  {
   "cell_type": "markdown",
   "metadata": {},
   "source": [
    "## Clone the sample repository"
   ]
  },
  {
   "cell_type": "code",
   "execution_count": 14,
   "metadata": {},
   "outputs": [
    {
     "name": "stdout",
     "output_type": "stream",
     "text": [
      "Cloning into 'acme_fitness_demo'...\n",
      "remote: Enumerating objects: 65, done.\u001b[K\n",
      "remote: Counting objects: 100% (65/65), done.\u001b[K\n",
      "remote: Compressing objects: 100% (51/51), done.\u001b[K\n",
      "remote: Total 742 (delta 38), reused 35 (delta 14), pack-reused 677\u001b[K\n",
      "Receiving objects: 100% (742/742), 1.01 MiB | 0 bytes/s, done.\n",
      "Resolving deltas: 100% (445/445), done.\n",
      "Checking connectivity... done.\n"
     ]
    }
   ],
   "source": [
    "cd ~\n",
    "git clone -b dkalani-dev3 https://github.com/vmwarecloudadvocacy/acme_fitness_demo.git\n",
    "cd acme_fitness_demo"
   ]
  },
  {
   "cell_type": "markdown",
   "metadata": {},
   "source": [
    "## Setup kubectl global variable to use different file"
   ]
  },
  {
   "cell_type": "code",
   "execution_count": 15,
   "metadata": {},
   "outputs": [],
   "source": [
    "export KUBECONFIG=~/.kube/tkgi"
   ]
  },
  {
   "cell_type": "markdown",
   "metadata": {},
   "source": [
    "## Change to the first cluster"
   ]
  },
  {
   "cell_type": "code",
   "execution_count": 16,
   "metadata": {},
   "outputs": [
    {
     "name": "stdout",
     "output_type": "stream",
     "text": [
      "Switched to context \"acme-azure-1\".\n"
     ]
    }
   ],
   "source": [
    "kubectl config use-context acme-azure-1"
   ]
  },
  {
   "cell_type": "markdown",
   "metadata": {},
   "source": [
    "## Create the v2 service catalog in the first cluster"
   ]
  },
  {
   "cell_type": "code",
   "execution_count": 20,
   "metadata": {},
   "outputs": [
    {
     "name": "stdout",
     "output_type": "stream",
     "text": [
      "configmap/catalog-initdb-config-v2 unchanged\n",
      "service/catalog-mongo-v2 unchanged\n",
      "deployment.apps/catalog-mongo-v2 unchanged\n",
      "deployment.apps/catalog-v2 unchanged\n"
     ]
    }
   ],
   "source": [
    "kubectl apply -f kubernetes-manifests/catalog-v2/catalog-service-v2.yaml"
   ]
  },
  {
   "cell_type": "markdown",
   "metadata": {},
   "source": [
    "## Apply Destination Rules"
   ]
  },
  {
   "cell_type": "code",
   "execution_count": 21,
   "metadata": {},
   "outputs": [
    {
     "name": "stdout",
     "output_type": "stream",
     "text": [
      "destinationrule.networking.istio.io/catalog unchanged\n"
     ]
    }
   ],
   "source": [
    "kubectl apply -f istio-manifests/trafficshifting/destinationrule.yaml"
   ]
  },
  {
   "cell_type": "markdown",
   "metadata": {},
   "source": [
    "## Shift 100% of the traffic to v2 only "
   ]
  },
  {
   "cell_type": "code",
   "execution_count": 22,
   "metadata": {},
   "outputs": [
    {
     "name": "stdout",
     "output_type": "stream",
     "text": [
      "virtualservice.networking.istio.io/catalog unchanged\n"
     ]
    }
   ],
   "source": [
    "kubectl apply -f istio-manifests/trafficshifting/shifting-100-v2.yaml"
   ]
  },
  {
   "cell_type": "markdown",
   "metadata": {},
   "source": [
    "## navigate to site to verify\n",
    "\n",
    "http://52.154.71.136/catalog.html#"
   ]
  },
  {
   "cell_type": "markdown",
   "metadata": {},
   "source": [
    "## shift 80% of the traffic to v1 and 20% of the traffic to v2"
   ]
  },
  {
   "cell_type": "code",
   "execution_count": 23,
   "metadata": {},
   "outputs": [
    {
     "name": "stdout",
     "output_type": "stream",
     "text": [
      "virtualservice.networking.istio.io/catalog configured\n"
     ]
    }
   ],
   "source": [
    "kubectl apply -f istio-manifests/trafficshifting/shifting-20-v2-80-v1.yaml"
   ]
  },
  {
   "cell_type": "markdown",
   "metadata": {},
   "source": [
    "## navigate to site to verify\n",
    "\n",
    "http://52.154.71.136/catalog.html#"
   ]
  },
  {
   "cell_type": "markdown",
   "metadata": {},
   "source": [
    "## shift 100% of the traffic to v1"
   ]
  },
  {
   "cell_type": "code",
   "execution_count": 24,
   "metadata": {},
   "outputs": [
    {
     "name": "stdout",
     "output_type": "stream",
     "text": [
      "virtualservice.networking.istio.io/catalog configured\n"
     ]
    }
   ],
   "source": [
    "kubectl apply -f istio-manifests/trafficshifting/shifting-100-v1.yaml"
   ]
  },
  {
   "cell_type": "markdown",
   "metadata": {},
   "source": [
    "## navigate to site to verify\n",
    "\n",
    "http://52.154.71.136/catalog.html#"
   ]
  },
  {
   "cell_type": "markdown",
   "metadata": {},
   "source": [
    "## cleanup"
   ]
  },
  {
   "cell_type": "code",
   "execution_count": 25,
   "metadata": {},
   "outputs": [
    {
     "name": "stdout",
     "output_type": "stream",
     "text": [
      "virtualservice.networking.istio.io \"catalog\" deleted\n",
      "destinationrule.networking.istio.io \"catalog\" deleted\n",
      "configmap \"catalog-initdb-config-v2\" deleted\n",
      "service \"catalog-mongo-v2\" deleted\n",
      "deployment.apps \"catalog-mongo-v2\" deleted\n",
      "deployment.apps \"catalog-v2\" deleted\n"
     ]
    }
   ],
   "source": [
    "kubectl delete -f istio-manifests/trafficshifting/shifting-100-v1.yaml\n",
    "kubectl delete -f istio-manifests/trafficshifting/destinationrule.yaml\n",
    "kubectl delete -f kubernetes-manifests/catalog-v2/catalog-service-v2.yaml\n",
    "cd ~\n",
    "rm -rf ~/acme_fitness_demo"
   ]
  },
  {
   "cell_type": "code",
   "execution_count": null,
   "metadata": {},
   "outputs": [],
   "source": []
  }
 ],
 "metadata": {
  "kernelspec": {
   "display_name": "Bash",
   "language": "bash",
   "name": "bash"
  },
  "language_info": {
   "codemirror_mode": "shell",
   "file_extension": ".sh",
   "mimetype": "text/x-sh",
   "name": "bash"
  }
 },
 "nbformat": 4,
 "nbformat_minor": 2
}

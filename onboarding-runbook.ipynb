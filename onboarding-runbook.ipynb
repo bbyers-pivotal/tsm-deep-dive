{
 "cells": [
  {
   "cell_type": "markdown",
   "metadata": {},
   "source": [
    "# Onboarding Runbook\n",
    "\n",
    "## Goals\n",
    "\n",
    "- Understand The Onboarding Process\n",
    "- Understand How To Set Up A Global Namespace (GNS)\n",
    "- Understand How A GNS Allows Distributed Service Meshes\n",
    "\n",
    "## Login\n",
    "\n",
    "Setup your kubeconfig for cluster 1 (named acme-c1) and cluster 2 (named acme-c2) as two kubeconfig files for each cluster."
   ]
  },
  {
   "cell_type": "code",
   "execution_count": null,
   "metadata": {},
   "outputs": [],
   "source": [
    "export KUBECONFIG=./kubeconfig-acme-c1.yml:./kubeconfig-acme-c2.yml"
   ]
  },
  {
   "cell_type": "code",
   "execution_count": null,
   "metadata": {},
   "outputs": [],
   "source": [
    "kubectl config get-contexts"
   ]
  },
  {
   "cell_type": "markdown",
   "metadata": {},
   "source": [
    "Login into your [Tanzu Service Mesh tenant](./imgs/1-homepage.png).\n",
    "\n",
    "## [Onboard Cluster 1](./imgs/2-onboard-a-cluster.png)"
   ]
  },
  {
   "cell_type": "code",
   "execution_count": null,
   "metadata": {},
   "outputs": [],
   "source": [
    "kubectl config use-context acme-c1"
   ]
  },
  {
   "cell_type": "markdown",
   "metadata": {},
   "source": [
    "Enter a [Unique Cluster Name](./imgs/3-onboard-a-cluster-unique-name.png)\n",
    "\n",
    "Paste [Registration Script 1](./imgs/4-onboard-a-cluster-register.png) Below"
   ]
  },
  {
   "cell_type": "code",
   "execution_count": null,
   "metadata": {},
   "outputs": [],
   "source": []
  },
  {
   "cell_type": "markdown",
   "metadata": {},
   "source": [
    "Paste Registration Script 2 Below"
   ]
  },
  {
   "cell_type": "code",
   "execution_count": null,
   "metadata": {},
   "outputs": [],
   "source": []
  },
  {
   "cell_type": "markdown",
   "metadata": {},
   "source": [
    "### Gotcha: Slow Or Incomplete Verification\n",
    "\n",
    "The namespace “allspark” is created with 3 pods (allspark-ws-proxy, ecr-read-only--renew-token and k8s-cluster-manager). If any pod is in a state of ImagePullBackOff, just delete the pod to make the process faster."
   ]
  },
  {
   "cell_type": "code",
   "execution_count": null,
   "metadata": {},
   "outputs": [],
   "source": [
    "kubectl -n allspark get pods"
   ]
  },
  {
   "cell_type": "markdown",
   "metadata": {},
   "source": [
    "### Gotcha: TMC + AWS\n",
    "\n",
    "Clicking on the Install Service Mesh button will install the component install in the “istio-system” namespace. Out of the box TMC on AWS fails this step. The error is “CreateContainerConfigError” for the “istio-init-crd” pod. The following cluster role binding is required."
   ]
  },
  {
   "cell_type": "code",
   "execution_count": null,
   "metadata": {},
   "outputs": [],
   "source": [
    "kubectl create clusterrolebinding privileged-role-binding \\\n",
    "--clusterrole=vmware-system-tmc-psp-privileged \\\n",
    "--group=system:authenticated"
   ]
  },
  {
   "cell_type": "markdown",
   "metadata": {},
   "source": [
    "[Install TSM](./imgs/5-onboard-a-cluster-tsm-install.png)\n",
    "\n",
    "[Installing Dependencies](./imgs/6-onboard-a-cluster-tsm-install-deps.png)"
   ]
  },
  {
   "cell_type": "code",
   "execution_count": null,
   "metadata": {},
   "outputs": [],
   "source": [
    "kubectl -n istio-system get pods"
   ]
  },
  {
   "cell_type": "markdown",
   "metadata": {},
   "source": [
    "[Completed](./imgs/7-onboard-a-cluster-tsm-install-complete.png)"
   ]
  },
  {
   "cell_type": "code",
   "execution_count": null,
   "metadata": {},
   "outputs": [],
   "source": [
    "k -n istio-system get svc istio-ingressgateway"
   ]
  },
  {
   "cell_type": "markdown",
   "metadata": {},
   "source": [
    "### Onboard Cluster 2\n",
    "\n",
    "Repeat the previous process using acme-c2 as the unique name."
   ]
  },
  {
   "cell_type": "code",
   "execution_count": null,
   "metadata": {},
   "outputs": [],
   "source": [
    "kubectl config use-context acme-c2"
   ]
  },
  {
   "cell_type": "markdown",
   "metadata": {},
   "source": [
    "Paste Registration Script 1 Below"
   ]
  },
  {
   "cell_type": "code",
   "execution_count": null,
   "metadata": {},
   "outputs": [],
   "source": []
  },
  {
   "cell_type": "markdown",
   "metadata": {},
   "source": [
    "Paste Registration Script 2 Below"
   ]
  },
  {
   "cell_type": "code",
   "execution_count": null,
   "metadata": {},
   "outputs": [],
   "source": []
  },
  {
   "cell_type": "code",
   "execution_count": null,
   "metadata": {},
   "outputs": [],
   "source": [
    "kubectl -n allspark get pods"
   ]
  },
  {
   "cell_type": "code",
   "execution_count": null,
   "metadata": {},
   "outputs": [],
   "source": [
    "kubectl -n istio-system get pods"
   ]
  },
  {
   "cell_type": "markdown",
   "metadata": {},
   "source": [
    "[Clusters Onboarded](./imgs/8-clusters-onboarded.png)\n",
    "\n",
    "## Deploy Acme Fitness On Cluster 1\n",
    "\n",
    "![Acme Fitness](./imgs/9-acmeshop.png)\n",
    "\n",
    "Clone from Acme Fitness Demo"
   ]
  },
  {
   "cell_type": "code",
   "execution_count": null,
   "metadata": {},
   "outputs": [],
   "source": [
    "git clone -b dkalani-dev3 https://github.com/vmwarecloudadvocacy/acme_fitness_demo.git"
   ]
  },
  {
   "cell_type": "code",
   "execution_count": null,
   "metadata": {},
   "outputs": [],
   "source": [
    "kubectl config use-context acme-c1"
   ]
  },
  {
   "cell_type": "code",
   "execution_count": null,
   "metadata": {},
   "outputs": [],
   "source": [
    "kubectl label ns default istio-injection=enabled"
   ]
  },
  {
   "cell_type": "code",
   "execution_count": null,
   "metadata": {},
   "outputs": [],
   "source": [
    "kubectl apply -f acme_fitness_demo/kubernetes-manifests/secrets.yaml"
   ]
  },
  {
   "cell_type": "code",
   "execution_count": null,
   "metadata": {},
   "outputs": [],
   "source": [
    "kubectl apply -f acme_fitness_demo/kubernetes-manifests/acme_fitness_cluster1.yaml"
   ]
  },
  {
   "cell_type": "code",
   "execution_count": null,
   "metadata": {},
   "outputs": [],
   "source": [
    "kubectl apply -f acme_fitness_demo/kubernetes-manifests/acme_fitness_cluster2.yaml"
   ]
  },
  {
   "cell_type": "code",
   "execution_count": null,
   "metadata": {},
   "outputs": [],
   "source": [
    "kubectl set env deploy shopping CATALOG_HOST=catalog"
   ]
  },
  {
   "cell_type": "code",
   "execution_count": null,
   "metadata": {},
   "outputs": [],
   "source": [
    "kubectl get all"
   ]
  },
  {
   "cell_type": "code",
   "execution_count": null,
   "metadata": {},
   "outputs": [],
   "source": [
    "kubectl apply -f acme_fitness_demo/istio-manifests/gateway.yaml"
   ]
  },
  {
   "cell_type": "code",
   "execution_count": null,
   "metadata": {},
   "outputs": [],
   "source": [
    "kubectl -n istio-system get svc istio-ingressgateway"
   ]
  },
  {
   "cell_type": "code",
   "execution_count": null,
   "metadata": {},
   "outputs": [],
   "source": [
    "kubectl apply -f acme_fitness_demo/traffic-generator/loadgen.yaml"
   ]
  },
  {
   "cell_type": "markdown",
   "metadata": {},
   "source": [
    "[Acme Cluster 1 fabric overview](./imgs/10-acme-c1-fabric-overview.png)\n",
    "\n",
    "Open browser to URL\n",
    "\n",
    "## Duplicate Catalog Service On Cluster 2"
   ]
  },
  {
   "cell_type": "code",
   "execution_count": null,
   "metadata": {},
   "outputs": [],
   "source": [
    "kubectl config use-context acme-c2"
   ]
  },
  {
   "cell_type": "code",
   "execution_count": null,
   "metadata": {},
   "outputs": [],
   "source": [
    "kubectl label ns default istio-injection=enabled"
   ]
  },
  {
   "cell_type": "code",
   "execution_count": null,
   "metadata": {},
   "outputs": [],
   "source": [
    "kubectl apply -f acme_fitness_demo/kubernetes-manifests/secrets.yaml"
   ]
  },
  {
   "cell_type": "code",
   "execution_count": null,
   "metadata": {},
   "outputs": [],
   "source": [
    "kubectl apply -f acme_fitness_demo/kubernetes-manifests/acme_fitness_cluster2.yaml"
   ]
  },
  {
   "cell_type": "markdown",
   "metadata": {},
   "source": [
    "[Acme Cluster 2 fabric overview](./imgs/11-acme-c2-fabric-overview.png)\n",
    "\n",
    "## Create A Global Namespace\n",
    "\n",
    "[Create a Global Namespace](./imgs/12-gns.png)\n",
    "\n",
    "[General Details](./imgs/13-gns-general-details.png)\n",
    "\n",
    "[Service Mappings](./imgs/14-gns-service-mapping.png)\n",
    "\n",
    "[Public Services](./imgs/15-gns-public-services.png)\n",
    "\n",
    "[External Services](./imgs/16-gns-external-services.png)\n",
    "\n",
    "[Security](./imgs/17-gns-security.png)\n",
    "\n",
    "[Summary](./imgs/18-gns-summary.png)\n",
    "\n",
    "[Global Namespace homepage](./imgs/19-gns-homepage.png)\n",
    "\n",
    "[Global Namespace fabric overview](./imgs/20-gns-fabric-overview.png)\n",
    "\n",
    "## Remove Catalog Service On Cluster 1"
   ]
  },
  {
   "cell_type": "code",
   "execution_count": null,
   "metadata": {},
   "outputs": [],
   "source": [
    "kubectl config use-context acme-c1"
   ]
  },
  {
   "cell_type": "code",
   "execution_count": null,
   "metadata": {},
   "outputs": [],
   "source": [
    "kubectl set env deploy shopping CATALOG_HOST=catalog.acme.com"
   ]
  },
  {
   "cell_type": "code",
   "execution_count": null,
   "metadata": {},
   "outputs": [],
   "source": [
    "kubectl delete -f acme_fitness_demo/kubernetes-manifests/acme_fitness_cluster2.yaml"
   ]
  },
  {
   "cell_type": "code",
   "execution_count": null,
   "metadata": {},
   "outputs": [],
   "source": [
    "kubectl delete -f acme_fitness_demo/traffic-generator/loadgen.yaml"
   ]
  },
  {
   "cell_type": "code",
   "execution_count": null,
   "metadata": {},
   "outputs": [],
   "source": [
    "kubectl apply -f acme_fitness_demo/traffic-generator/loadgen.yaml"
   ]
  }
 ],
 "metadata": {
  "kernelspec": {
   "display_name": "Z shell",
   "language": "zsh",
   "name": "zsh"
  },
  "language_info": {
   "codemirror_mode": "shell",
   "file_extension": ".zsh",
   "mimetype": "text/x-zsh",
   "name": "zsh",
   "pygments_lexer": "shell",
   "version": "5.7.1"
  }
 },
 "nbformat": 4,
 "nbformat_minor": 4
}
